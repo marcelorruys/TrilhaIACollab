{
  "nbformat": 4,
  "nbformat_minor": 0,
  "metadata": {
    "colab": {
      "provenance": [],
      "toc_visible": true,
      "authorship_tag": "ABX9TyNpT3D2GC94laWWCsM73orn",
      "include_colab_link": true
    },
    "kernelspec": {
      "name": "python3",
      "display_name": "Python 3"
    },
    "language_info": {
      "name": "python"
    }
  },
  "cells": [
    {
      "cell_type": "markdown",
      "metadata": {
        "id": "view-in-github",
        "colab_type": "text"
      },
      "source": [
        "<a href=\"https://colab.research.google.com/github/marcelorruys/TrilhaIACollab/blob/main/Aula_01.ipynb\" target=\"_parent\"><img src=\"https://colab.research.google.com/assets/colab-badge.svg\" alt=\"Open In Colab\"/></a>"
      ]
    },
    {
      "cell_type": "markdown",
      "source": [
        "# Aula 01\n"
      ],
      "metadata": {
        "id": "MqhUE7unvR9Q"
      }
    },
    {
      "cell_type": "markdown",
      "source": [
        "## Regressão Linear"
      ],
      "metadata": {
        "id": "adYzl42lzeXr"
      }
    },
    {
      "cell_type": "code",
      "source": [
        "# prompt: from numpy import *(\n",
        "\n",
        "from numpy import *\n"
      ],
      "metadata": {
        "id": "dv57kvefvWrp"
      },
      "execution_count": null,
      "outputs": []
    },
    {
      "cell_type": "markdown",
      "source": [
        "##Criando a classe"
      ],
      "metadata": {
        "id": "Vx6XVPFewCV0"
      }
    },
    {
      "cell_type": "code",
      "source": [
        "from numpy import *\n",
        "\n",
        "class LinearRegression:\n",
        "    def __init__(self, x, y):\n",
        "      self.x = x\n",
        "      self.y = y\n",
        "      self.__correlation_coefficient =  self.__correlacao()\n",
        "      self.__inclination_coefficient = self.__inclinacao()\n",
        "      self.__intercept_coefficient = self.__interceptacao()\n",
        "\n",
        "    def __correlacao(self):\n",
        "      covariacao = cov(self.x, self.y, bias=True)[0][1]\n",
        "      #bias = -1 no cálculo faz normalização por N\n",
        "      #por padrão o calculo da covariacao vem dentro de uma matriz\n",
        "      #como queremos o valor de x e y, pegaremos ela de dentro da matriz dessa forma\n",
        "      variancia_x = var(self.x)\n",
        "      variancia_y = var(self.y)\n",
        "      return covariacao / sqrt(variancia_x * variancia_y)\n",
        "\n",
        "    def __inclinacao(self):\n",
        "      stdx = std(self.x)\n",
        "      stdy = std(self.y)\n",
        "      return self.__correlation_coefficient * (stdy / stdx)\n",
        "\n",
        "    def __interceptacao(self):\n",
        "      mediax = mean(self.x)\n",
        "      mediay = mean(self.y)\n",
        "      return mediay - mediax * self.__inclination_coefficient\n",
        "\n",
        "    def previsao(self,valor):\n",
        "      return self.__intercept_coefficient + (self.__inclination_coefficient * valor)"
      ],
      "metadata": {
        "id": "uj6JVqXjwBR1"
      },
      "execution_count": null,
      "outputs": []
    },
    {
      "cell_type": "markdown",
      "source": [
        "##Usando a classe"
      ],
      "metadata": {
        "id": "6iKxYUDyw_kc"
      }
    },
    {
      "cell_type": "code",
      "source": [
        "x = array([1,2,3,4,5])\n",
        "y = array([2,4,6,8,10])\n",
        "\n",
        "lr = LinearRegression(x,y)\n",
        "previsao = lr.previsao(6)\n",
        "print(previsao)"
      ],
      "metadata": {
        "colab": {
          "base_uri": "https://localhost:8080/"
        },
        "id": "8VTdqdxGxBXi",
        "outputId": "19fdbf03-5fc9-4730-87c5-d97504f2046e"
      },
      "execution_count": null,
      "outputs": [
        {
          "output_type": "stream",
          "name": "stdout",
          "text": [
            "12.0\n"
          ]
        }
      ]
    },
    {
      "cell_type": "markdown",
      "source": [
        "#Regressão StatsModels\n"
      ],
      "metadata": {
        "id": "5a35bE89zbY7"
      }
    },
    {
      "cell_type": "markdown",
      "source": [
        "## Importando bibliotecas"
      ],
      "metadata": {
        "id": "tEsZ4nym0VSj"
      }
    },
    {
      "cell_type": "code",
      "source": [
        "import pandas as pd\n",
        "import numpy as np\n",
        "import matplotlib.pyplot as plt\n",
        "import statsmodels.formula.api as sm\n",
        "import scipy.stats as stats\n",
        "import seaborn as sns\n",
        "\n"
      ],
      "metadata": {
        "id": "FMSjKDbe0YXs"
      },
      "execution_count": null,
      "outputs": []
    },
    {
      "cell_type": "markdown",
      "source": [
        "##Criando Dataframe"
      ],
      "metadata": {
        "id": "B9YT-ESo2FKI"
      }
    },
    {
      "cell_type": "code",
      "source": [
        "base = pd.read_csv('mt_cars.csv')\n",
        "base.shape #veremos o arquivo em número de linhas e colunas!"
      ],
      "metadata": {
        "colab": {
          "base_uri": "https://localhost:8080/"
        },
        "id": "ST0QXOAB2EQ4",
        "outputId": "e6d03854-5028-415c-fece-8a9efceaba87"
      },
      "execution_count": null,
      "outputs": [
        {
          "output_type": "execute_result",
          "data": {
            "text/plain": [
              "(32, 12)"
            ]
          },
          "metadata": {},
          "execution_count": 6
        }
      ]
    },
    {
      "cell_type": "markdown",
      "source": [
        "##Tratando dados"
      ],
      "metadata": {
        "id": "XkxlElP82P-w"
      }
    },
    {
      "cell_type": "code",
      "source": [
        "base = base.drop('Unnamed: 0', axis = 1)"
      ],
      "metadata": {
        "id": "6rN7neaC2Sgo"
      },
      "execution_count": null,
      "outputs": []
    },
    {
      "cell_type": "code",
      "source": [],
      "metadata": {
        "id": "hwTj-V0u2dxR"
      },
      "execution_count": null,
      "outputs": []
    }
  ]
}