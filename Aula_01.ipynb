{
  "nbformat": 4,
  "nbformat_minor": 0,
  "metadata": {
    "colab": {
      "provenance": [],
      "authorship_tag": "ABX9TyPdT6qnw7iSVcTXKagBBOZN",
      "include_colab_link": true
    },
    "kernelspec": {
      "name": "python3",
      "display_name": "Python 3"
    },
    "language_info": {
      "name": "python"
    }
  },
  "cells": [
    {
      "cell_type": "markdown",
      "metadata": {
        "id": "view-in-github",
        "colab_type": "text"
      },
      "source": [
        "<a href=\"https://colab.research.google.com/github/marcelorruys/TrilhaIACollab/blob/main/Aula_01.ipynb\" target=\"_parent\"><img src=\"https://colab.research.google.com/assets/colab-badge.svg\" alt=\"Open In Colab\"/></a>"
      ]
    },
    {
      "cell_type": "markdown",
      "source": [
        "# Aula 01\n"
      ],
      "metadata": {
        "id": "MqhUE7unvR9Q"
      }
    },
    {
      "cell_type": "markdown",
      "source": [
        "## Regressão Linear"
      ],
      "metadata": {
        "id": "adYzl42lzeXr"
      }
    },
    {
      "cell_type": "code",
      "source": [
        "# prompt: from numpy import *(\n",
        "\n",
        "from numpy import *\n"
      ],
      "metadata": {
        "id": "dv57kvefvWrp"
      },
      "execution_count": 1,
      "outputs": []
    },
    {
      "cell_type": "markdown",
      "source": [
        "##Criando a classe"
      ],
      "metadata": {
        "id": "Vx6XVPFewCV0"
      }
    },
    {
      "cell_type": "code",
      "source": [
        "from numpy import *\n",
        "\n",
        "class LinearRegression:\n",
        "    def __init__(self, x, y):\n",
        "      self.x = x\n",
        "      self.y = y\n",
        "      self.__correlation_coefficient =  self.__correlacao()\n",
        "      self.__inclination_coefficient = self.__inclinacao()\n",
        "      self.__intercept_coefficient = self.__interceptacao()\n",
        "\n",
        "    def __correlacao(self):\n",
        "      covariacao = cov(self.x, self.y, bias=True)[0][1]\n",
        "      #bias = -1 no cálculo faz normalização por N\n",
        "      #por padrão o calculo da covariacao vem dentro de uma matriz\n",
        "      #como queremos o valor de x e y, pegaremos ela de dentro da matriz dessa forma\n",
        "      variancia_x = var(self.x)\n",
        "      variancia_y = var(self.y)\n",
        "      return covariacao / sqrt(variancia_x * variancia_y)\n",
        "\n",
        "    def __inclinacao(self):\n",
        "      stdx = std(self.x)\n",
        "      stdy = std(self.y)\n",
        "      return self.__correlation_coefficient * (stdy / stdx)\n",
        "\n",
        "    def __interceptacao(self):\n",
        "      mediax = mean(self.x)\n",
        "      mediay = mean(self.y)\n",
        "      return mediay - mediax * self.__inclination_coefficient\n",
        "\n",
        "    def previsao(self,valor):\n",
        "      return self.__intercept_coefficient + (self.__inclination_coefficient * valor)"
      ],
      "metadata": {
        "id": "uj6JVqXjwBR1"
      },
      "execution_count": 2,
      "outputs": []
    },
    {
      "cell_type": "markdown",
      "source": [
        "##Usando a classe"
      ],
      "metadata": {
        "id": "6iKxYUDyw_kc"
      }
    },
    {
      "cell_type": "code",
      "source": [
        "x = array([1,2,3,4,5])\n",
        "y = array([2,4,6,8,10])\n",
        "\n",
        "lr = LinearRegression(x,y)\n",
        "previsao = lr.previsao(6)\n",
        "print(previsao)"
      ],
      "metadata": {
        "colab": {
          "base_uri": "https://localhost:8080/"
        },
        "id": "8VTdqdxGxBXi",
        "outputId": "4a8dadce-2dc6-4f9d-c8cb-3c27e8bdb43f"
      },
      "execution_count": 3,
      "outputs": [
        {
          "output_type": "stream",
          "name": "stdout",
          "text": [
            "12.0\n"
          ]
        }
      ]
    },
    {
      "cell_type": "markdown",
      "source": [
        "#Regressão StatsModels\n"
      ],
      "metadata": {
        "id": "5a35bE89zbY7"
      }
    },
    {
      "cell_type": "markdown",
      "source": [
        "## Importando bibliotecas"
      ],
      "metadata": {
        "id": "tEsZ4nym0VSj"
      }
    },
    {
      "cell_type": "code",
      "source": [
        "import pandas as pd\n",
        "import numpy as np\n",
        "import matplotlib.pyplot as plt\n",
        "import statsmodels.formula.api as sm\n",
        "import scipy.stats as stats\n",
        "import seaborn as sns\n",
        "\n"
      ],
      "metadata": {
        "id": "FMSjKDbe0YXs"
      },
      "execution_count": 4,
      "outputs": []
    },
    {
      "cell_type": "markdown",
      "source": [
        "##Criando Dataframe"
      ],
      "metadata": {
        "id": "B9YT-ESo2FKI"
      }
    },
    {
      "cell_type": "code",
      "source": [
        "base = pd.read_csv('mt_cars.csv')\n",
        "base.shape #veremos o arquivo em número de linhas e colunas!"
      ],
      "metadata": {
        "colab": {
          "base_uri": "https://localhost:8080/",
          "height": 321
        },
        "id": "ST0QXOAB2EQ4",
        "outputId": "995964af-2737-43ce-85ad-808cda2e1db9"
      },
      "execution_count": 5,
      "outputs": [
        {
          "output_type": "error",
          "ename": "FileNotFoundError",
          "evalue": "[Errno 2] No such file or directory: 'mt_cars.csv'",
          "traceback": [
            "\u001b[0;31m---------------------------------------------------------------------------\u001b[0m",
            "\u001b[0;31mFileNotFoundError\u001b[0m                         Traceback (most recent call last)",
            "\u001b[0;32m<ipython-input-5-ad4e6e79a123>\u001b[0m in \u001b[0;36m<cell line: 1>\u001b[0;34m()\u001b[0m\n\u001b[0;32m----> 1\u001b[0;31m \u001b[0mbase\u001b[0m \u001b[0;34m=\u001b[0m \u001b[0mpd\u001b[0m\u001b[0;34m.\u001b[0m\u001b[0mread_csv\u001b[0m\u001b[0;34m(\u001b[0m\u001b[0;34m'mt_cars.csv'\u001b[0m\u001b[0;34m)\u001b[0m\u001b[0;34m\u001b[0m\u001b[0;34m\u001b[0m\u001b[0m\n\u001b[0m\u001b[1;32m      2\u001b[0m \u001b[0mbase\u001b[0m\u001b[0;34m.\u001b[0m\u001b[0mshape\u001b[0m \u001b[0;31m#veremos o arquivo em número de linhas e colunas!\u001b[0m\u001b[0;34m\u001b[0m\u001b[0;34m\u001b[0m\u001b[0m\n",
            "\u001b[0;32m/usr/local/lib/python3.10/dist-packages/pandas/io/parsers/readers.py\u001b[0m in \u001b[0;36mread_csv\u001b[0;34m(filepath_or_buffer, sep, delimiter, header, names, index_col, usecols, dtype, engine, converters, true_values, false_values, skipinitialspace, skiprows, skipfooter, nrows, na_values, keep_default_na, na_filter, verbose, skip_blank_lines, parse_dates, infer_datetime_format, keep_date_col, date_parser, date_format, dayfirst, cache_dates, iterator, chunksize, compression, thousands, decimal, lineterminator, quotechar, quoting, doublequote, escapechar, comment, encoding, encoding_errors, dialect, on_bad_lines, delim_whitespace, low_memory, memory_map, float_precision, storage_options, dtype_backend)\u001b[0m\n\u001b[1;32m   1024\u001b[0m     \u001b[0mkwds\u001b[0m\u001b[0;34m.\u001b[0m\u001b[0mupdate\u001b[0m\u001b[0;34m(\u001b[0m\u001b[0mkwds_defaults\u001b[0m\u001b[0;34m)\u001b[0m\u001b[0;34m\u001b[0m\u001b[0;34m\u001b[0m\u001b[0m\n\u001b[1;32m   1025\u001b[0m \u001b[0;34m\u001b[0m\u001b[0m\n\u001b[0;32m-> 1026\u001b[0;31m     \u001b[0;32mreturn\u001b[0m \u001b[0m_read\u001b[0m\u001b[0;34m(\u001b[0m\u001b[0mfilepath_or_buffer\u001b[0m\u001b[0;34m,\u001b[0m \u001b[0mkwds\u001b[0m\u001b[0;34m)\u001b[0m\u001b[0;34m\u001b[0m\u001b[0;34m\u001b[0m\u001b[0m\n\u001b[0m\u001b[1;32m   1027\u001b[0m \u001b[0;34m\u001b[0m\u001b[0m\n\u001b[1;32m   1028\u001b[0m \u001b[0;34m\u001b[0m\u001b[0m\n",
            "\u001b[0;32m/usr/local/lib/python3.10/dist-packages/pandas/io/parsers/readers.py\u001b[0m in \u001b[0;36m_read\u001b[0;34m(filepath_or_buffer, kwds)\u001b[0m\n\u001b[1;32m    618\u001b[0m \u001b[0;34m\u001b[0m\u001b[0m\n\u001b[1;32m    619\u001b[0m     \u001b[0;31m# Create the parser.\u001b[0m\u001b[0;34m\u001b[0m\u001b[0;34m\u001b[0m\u001b[0m\n\u001b[0;32m--> 620\u001b[0;31m     \u001b[0mparser\u001b[0m \u001b[0;34m=\u001b[0m \u001b[0mTextFileReader\u001b[0m\u001b[0;34m(\u001b[0m\u001b[0mfilepath_or_buffer\u001b[0m\u001b[0;34m,\u001b[0m \u001b[0;34m**\u001b[0m\u001b[0mkwds\u001b[0m\u001b[0;34m)\u001b[0m\u001b[0;34m\u001b[0m\u001b[0;34m\u001b[0m\u001b[0m\n\u001b[0m\u001b[1;32m    621\u001b[0m \u001b[0;34m\u001b[0m\u001b[0m\n\u001b[1;32m    622\u001b[0m     \u001b[0;32mif\u001b[0m \u001b[0mchunksize\u001b[0m \u001b[0;32mor\u001b[0m \u001b[0miterator\u001b[0m\u001b[0;34m:\u001b[0m\u001b[0;34m\u001b[0m\u001b[0;34m\u001b[0m\u001b[0m\n",
            "\u001b[0;32m/usr/local/lib/python3.10/dist-packages/pandas/io/parsers/readers.py\u001b[0m in \u001b[0;36m__init__\u001b[0;34m(self, f, engine, **kwds)\u001b[0m\n\u001b[1;32m   1618\u001b[0m \u001b[0;34m\u001b[0m\u001b[0m\n\u001b[1;32m   1619\u001b[0m         \u001b[0mself\u001b[0m\u001b[0;34m.\u001b[0m\u001b[0mhandles\u001b[0m\u001b[0;34m:\u001b[0m \u001b[0mIOHandles\u001b[0m \u001b[0;34m|\u001b[0m \u001b[0;32mNone\u001b[0m \u001b[0;34m=\u001b[0m \u001b[0;32mNone\u001b[0m\u001b[0;34m\u001b[0m\u001b[0;34m\u001b[0m\u001b[0m\n\u001b[0;32m-> 1620\u001b[0;31m         \u001b[0mself\u001b[0m\u001b[0;34m.\u001b[0m\u001b[0m_engine\u001b[0m \u001b[0;34m=\u001b[0m \u001b[0mself\u001b[0m\u001b[0;34m.\u001b[0m\u001b[0m_make_engine\u001b[0m\u001b[0;34m(\u001b[0m\u001b[0mf\u001b[0m\u001b[0;34m,\u001b[0m \u001b[0mself\u001b[0m\u001b[0;34m.\u001b[0m\u001b[0mengine\u001b[0m\u001b[0;34m)\u001b[0m\u001b[0;34m\u001b[0m\u001b[0;34m\u001b[0m\u001b[0m\n\u001b[0m\u001b[1;32m   1621\u001b[0m \u001b[0;34m\u001b[0m\u001b[0m\n\u001b[1;32m   1622\u001b[0m     \u001b[0;32mdef\u001b[0m \u001b[0mclose\u001b[0m\u001b[0;34m(\u001b[0m\u001b[0mself\u001b[0m\u001b[0;34m)\u001b[0m \u001b[0;34m->\u001b[0m \u001b[0;32mNone\u001b[0m\u001b[0;34m:\u001b[0m\u001b[0;34m\u001b[0m\u001b[0;34m\u001b[0m\u001b[0m\n",
            "\u001b[0;32m/usr/local/lib/python3.10/dist-packages/pandas/io/parsers/readers.py\u001b[0m in \u001b[0;36m_make_engine\u001b[0;34m(self, f, engine)\u001b[0m\n\u001b[1;32m   1878\u001b[0m                 \u001b[0;32mif\u001b[0m \u001b[0;34m\"b\"\u001b[0m \u001b[0;32mnot\u001b[0m \u001b[0;32min\u001b[0m \u001b[0mmode\u001b[0m\u001b[0;34m:\u001b[0m\u001b[0;34m\u001b[0m\u001b[0;34m\u001b[0m\u001b[0m\n\u001b[1;32m   1879\u001b[0m                     \u001b[0mmode\u001b[0m \u001b[0;34m+=\u001b[0m \u001b[0;34m\"b\"\u001b[0m\u001b[0;34m\u001b[0m\u001b[0;34m\u001b[0m\u001b[0m\n\u001b[0;32m-> 1880\u001b[0;31m             self.handles = get_handle(\n\u001b[0m\u001b[1;32m   1881\u001b[0m                 \u001b[0mf\u001b[0m\u001b[0;34m,\u001b[0m\u001b[0;34m\u001b[0m\u001b[0;34m\u001b[0m\u001b[0m\n\u001b[1;32m   1882\u001b[0m                 \u001b[0mmode\u001b[0m\u001b[0;34m,\u001b[0m\u001b[0;34m\u001b[0m\u001b[0;34m\u001b[0m\u001b[0m\n",
            "\u001b[0;32m/usr/local/lib/python3.10/dist-packages/pandas/io/common.py\u001b[0m in \u001b[0;36mget_handle\u001b[0;34m(path_or_buf, mode, encoding, compression, memory_map, is_text, errors, storage_options)\u001b[0m\n\u001b[1;32m    871\u001b[0m         \u001b[0;32mif\u001b[0m \u001b[0mioargs\u001b[0m\u001b[0;34m.\u001b[0m\u001b[0mencoding\u001b[0m \u001b[0;32mand\u001b[0m \u001b[0;34m\"b\"\u001b[0m \u001b[0;32mnot\u001b[0m \u001b[0;32min\u001b[0m \u001b[0mioargs\u001b[0m\u001b[0;34m.\u001b[0m\u001b[0mmode\u001b[0m\u001b[0;34m:\u001b[0m\u001b[0;34m\u001b[0m\u001b[0;34m\u001b[0m\u001b[0m\n\u001b[1;32m    872\u001b[0m             \u001b[0;31m# Encoding\u001b[0m\u001b[0;34m\u001b[0m\u001b[0;34m\u001b[0m\u001b[0m\n\u001b[0;32m--> 873\u001b[0;31m             handle = open(\n\u001b[0m\u001b[1;32m    874\u001b[0m                 \u001b[0mhandle\u001b[0m\u001b[0;34m,\u001b[0m\u001b[0;34m\u001b[0m\u001b[0;34m\u001b[0m\u001b[0m\n\u001b[1;32m    875\u001b[0m                 \u001b[0mioargs\u001b[0m\u001b[0;34m.\u001b[0m\u001b[0mmode\u001b[0m\u001b[0;34m,\u001b[0m\u001b[0;34m\u001b[0m\u001b[0;34m\u001b[0m\u001b[0m\n",
            "\u001b[0;31mFileNotFoundError\u001b[0m: [Errno 2] No such file or directory: 'mt_cars.csv'"
          ]
        }
      ]
    },
    {
      "cell_type": "markdown",
      "source": [
        "##Tratando dados"
      ],
      "metadata": {
        "id": "XkxlElP82P-w"
      }
    },
    {
      "cell_type": "code",
      "source": [
        "base = base.drop('Unnamed: 0', axis = 1)"
      ],
      "metadata": {
        "id": "6rN7neaC2Sgo"
      },
      "execution_count": null,
      "outputs": []
    },
    {
      "cell_type": "code",
      "source": [
        "corr = base.corr() #gera um objeto que tem uma matriz com essas correlações\n",
        "sns.heatmap(corr, cmap='coolwarm', annot=True, fmt='.2f') #aqui é gerado um gráfico com essas correlações\n"
      ],
      "metadata": {
        "id": "hwTj-V0u2dxR"
      },
      "execution_count": null,
      "outputs": []
    },
    {
      "cell_type": "code",
      "source": [
        "column_pairs = [('mpg','cyl'),('mpg','disp'),('mpg','hp'),('mpg','wt'),('mpg','drat'),('mpg','vs')]\n",
        "n_plots = len(column_pairs)\n",
        "fig, axes = plt.subplots(nrows=n_plots, ncols=1, figsize=(6,4 * n_plots))\n",
        "\n",
        "for i, pair in enumerate(column_pairs):\n",
        "  x_col, y_col = pair\n",
        "  sns.scatterplot(x=x_col, y=y_col,data=base, ax=axes[i])\n",
        "  axes[i].set_title(f'{x_col} vs {y_col}')\n",
        "\n",
        "plt.tight_layout() #aqui a plotagem fica ajustada!\n",
        "plt.show()\n"
      ],
      "metadata": {
        "id": "NEehP42ibwfp"
      },
      "execution_count": null,
      "outputs": []
    },
    {
      "cell_type": "code",
      "source": [
        "#usando formulas, colocar as variáveis dependentes na esquerda, um \"~\" e as variáveis independentes na esquerda\n",
        "#muitas coisas serão na base do teste e erro\n",
        "#aic 156.6 bic 162.5\n",
        "#modelo = sm.ols(formula='mpg ~ wt + disp + hp', data=base)\n",
        "\n",
        "#com menos variáveis pode ser obtido um resultado melhor!\n",
        "#aic 165.1  bic 169.5\n",
        "#modelo = sm.ols(formula='mpg ~ disp + cyl', data=base)\n",
        "\n",
        "#aic 179.1  bic 183.5\n",
        "modelo = sm.ols(formula='mpg ~ drat + vs', data=base)\n",
        "modelo = modelo.fit()\n",
        "modelo.summary()\n"
      ],
      "metadata": {
        "id": "gIAS5h9xbxX4"
      },
      "execution_count": null,
      "outputs": []
    },
    {
      "cell_type": "code",
      "source": [
        "residuos = modelo.resid\n",
        "plt.hist(residuos, bins=20)\n",
        "plt.xlabel(\"Residuos\")\n",
        "plt.ylabel(\"Frequencia\")\n",
        "plt.title(\"Histograma de Residuos\")\n",
        "plt.show()"
      ],
      "metadata": {
        "id": "lGN1PTqqb5e5"
      },
      "execution_count": null,
      "outputs": []
    }
  ]
}